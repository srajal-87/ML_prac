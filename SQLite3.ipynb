{
 "cells": [
  {
   "cell_type": "markdown",
   "id": "8a82c5a8",
   "metadata": {},
   "source": [
    "SQLite is a C library that provides a lightweight disk-based database that doesn’t require a separate server process and allows accessing the database using a nonstandard variant of the SQL query language. Some applications can use SQLite for internal data storage. It’s also possible to prototype an application using SQLite and then port the code to a larger database such as PostgreSQL or Oracle."
   ]
  },
  {
   "cell_type": "code",
   "execution_count": null,
   "id": "fa76e5fa",
   "metadata": {},
   "outputs": [],
   "source": [
    "import sqlite3"
   ]
  },
  {
   "cell_type": "markdown",
   "id": "ac961e5b",
   "metadata": {},
   "source": [
    "First, we need to create a new database and open a database connection to allow sqlite3 to work with it. Call sqlite3.connect() to create a connection to the database example.db in the current working directory, implicitly creating it if it does not exist:"
   ]
  },
  {
   "cell_type": "code",
   "execution_count": 3,
   "id": "e924c10f",
   "metadata": {},
   "outputs": [],
   "source": [
    "## connect to sqllite3 database\n",
    "connection = sqlite3.connect('example.db')"
   ]
  },
  {
   "cell_type": "code",
   "execution_count": 4,
   "id": "bc2803e7",
   "metadata": {},
   "outputs": [
    {
     "data": {
      "text/plain": [
       "<sqlite3.Connection at 0x212df5198a0>"
      ]
     },
     "execution_count": 4,
     "metadata": {},
     "output_type": "execute_result"
    }
   ],
   "source": [
    "connection"
   ]
  },
  {
   "cell_type": "markdown",
   "id": "22c7881b",
   "metadata": {},
   "source": [
    "The returned Connection object con represents the connection to the on-disk database.\n",
    "\n",
    "In order to execute SQL statements and fetch results from SQL queries, we will need to use a database cursor. Call con.cursor() to create the Cursor"
   ]
  },
  {
   "cell_type": "code",
   "execution_count": null,
   "id": "5f743e4c",
   "metadata": {},
   "outputs": [],
   "source": [
    "cur=connection.cursor()"
   ]
  },
  {
   "cell_type": "markdown",
   "id": "05bc4683",
   "metadata": {},
   "source": [
    "Now that we’ve got a database connection and a cursor, we can create a database table movie with columns for title, release year, and review score. For simplicity, we can just use column names in the table declaration"
   ]
  },
  {
   "cell_type": "code",
   "execution_count": 6,
   "id": "9e898c38",
   "metadata": {},
   "outputs": [
    {
     "data": {
      "text/plain": [
       "<sqlite3.Cursor at 0x212df50d4c0>"
      ]
     },
     "execution_count": 6,
     "metadata": {},
     "output_type": "execute_result"
    }
   ],
   "source": [
    "cur.execute(\"CREATE TABLE Movie('tittle','year','score')\")"
   ]
  },
  {
   "cell_type": "markdown",
   "id": "e3f8e565",
   "metadata": {},
   "source": [
    "We can verify that the new table has been created by querying the sqlite_master table built-in to SQLite, which should now contain an entry for the movie table definition (see The Schema Table for details). Execute that query by calling cur.execute(...), assign the result to res, and call res.fetchone() to fetch the resulting row:"
   ]
  },
  {
   "cell_type": "code",
   "execution_count": 7,
   "id": "48c056ac",
   "metadata": {},
   "outputs": [
    {
     "data": {
      "text/plain": [
       "('Movie',)"
      ]
     },
     "execution_count": 7,
     "metadata": {},
     "output_type": "execute_result"
    }
   ],
   "source": [
    "res=cur.execute(\"SELECT Name FROM sqlite_master\")\n",
    "res.fetchone()"
   ]
  },
  {
   "cell_type": "markdown",
   "id": "ad56b0ca",
   "metadata": {},
   "source": [
    "Now, add two rows of data supplied as SQL literals by executing an INSERT statement, once again by calling cur.execute(...):\n",
    "\n"
   ]
  },
  {
   "cell_type": "code",
   "execution_count": 8,
   "id": "5b6ac62f",
   "metadata": {},
   "outputs": [
    {
     "data": {
      "text/plain": [
       "<sqlite3.Cursor at 0x212df50d4c0>"
      ]
     },
     "execution_count": 8,
     "metadata": {},
     "output_type": "execute_result"
    }
   ],
   "source": [
    "cur.execute(\"\"\"\n",
    "    INSERT INTO movie VALUES\n",
    "        ('Monty Python and the Holy Grail', 1975, 8.2),\n",
    "        ('And Now for Something Completely Different', 1971, 7.5)\n",
    "\"\"\")"
   ]
  },
  {
   "cell_type": "markdown",
   "id": "ce7507f2",
   "metadata": {},
   "source": [
    "The INSERT statement implicitly opens a transaction, which needs to be committed before changes are saved in the database (see Transaction control for details). Call con.commit() on the connection object to commit the transaction:\n",
    "\n"
   ]
  },
  {
   "cell_type": "code",
   "execution_count": 11,
   "id": "e74d3142",
   "metadata": {},
   "outputs": [],
   "source": [
    "connection.commit()"
   ]
  },
  {
   "cell_type": "code",
   "execution_count": 21,
   "id": "9517802e",
   "metadata": {},
   "outputs": [],
   "source": [
    "cur.execute(\"Select * from Movie\")\n",
    "rows=cur.fetchall()\n"
   ]
  },
  {
   "cell_type": "code",
   "execution_count": 23,
   "id": "46b4f7eb",
   "metadata": {},
   "outputs": [
    {
     "name": "stdout",
     "output_type": "stream",
     "text": [
      "('Monty Python and the Holy Grail', 1975, 8.2)\n",
      "('And Now for Something Completely Different', 1971, 7.5)\n",
      "('Monty Python Live at the Hollywood Bowl', 1982, 7.9)\n",
      "(\"Monty Python's The Meaning of Life\", 1983, 7.5)\n",
      "(\"Monty Python's Life of Brian\", 1979, 8.0)\n",
      "('Monty Python Live at the Hollywood Bowl', 1982, 7.9)\n",
      "(\"Monty Python's The Meaning of Life\", 1983, 7.5)\n",
      "(\"Monty Python's Life of Brian\", 1979, 8.0)\n"
     ]
    }
   ],
   "source": [
    "for row in rows:\n",
    "    print(row)"
   ]
  },
  {
   "cell_type": "code",
   "execution_count": 13,
   "id": "e7cdaf22",
   "metadata": {},
   "outputs": [
    {
     "data": {
      "text/plain": [
       "(8.2,)"
      ]
     },
     "execution_count": 13,
     "metadata": {},
     "output_type": "execute_result"
    }
   ],
   "source": [
    "res = cur.execute(\"SELECT score FROM Movie\")\n",
    "res.fetchone()"
   ]
  },
  {
   "cell_type": "code",
   "execution_count": 15,
   "id": "b448a895",
   "metadata": {},
   "outputs": [],
   "source": [
    "data = [\n",
    "    (\"Monty Python Live at the Hollywood Bowl\", 1982, 7.9),\n",
    "    (\"Monty Python's The Meaning of Life\", 1983, 7.5),\n",
    "    (\"Monty Python's Life of Brian\", 1979, 8.0),\n",
    "]\n",
    "cur.executemany(\"INSERT INTO movie VALUES(?, ?, ?)\", data)\n",
    "connection.commit()  # Remember to commit the transaction after executing INSERT."
   ]
  },
  {
   "cell_type": "code",
   "execution_count": 17,
   "id": "d019b34c",
   "metadata": {},
   "outputs": [
    {
     "name": "stdout",
     "output_type": "stream",
     "text": [
      "(1971, 'And Now for Something Completely Different')\n",
      "(1975, 'Monty Python and the Holy Grail')\n",
      "(1979, \"Monty Python's Life of Brian\")\n",
      "(1979, \"Monty Python's Life of Brian\")\n",
      "(1982, 'Monty Python Live at the Hollywood Bowl')\n",
      "(1982, 'Monty Python Live at the Hollywood Bowl')\n",
      "(1983, \"Monty Python's The Meaning of Life\")\n",
      "(1983, \"Monty Python's The Meaning of Life\")\n"
     ]
    }
   ],
   "source": [
    "for row in cur.execute(\"SELECT year, tittle FROM movie ORDER BY year\"):\n",
    "    print(row)"
   ]
  },
  {
   "cell_type": "code",
   "execution_count": 26,
   "id": "d082e318",
   "metadata": {},
   "outputs": [
    {
     "data": {
      "text/plain": [
       "<sqlite3.Cursor at 0x212df50d4c0>"
      ]
     },
     "execution_count": 26,
     "metadata": {},
     "output_type": "execute_result"
    }
   ],
   "source": [
    "## update the table\n",
    "cur.execute('''\n",
    " UPDATE Movie\n",
    " set score=10.0\n",
    " WHERE year=1971\n",
    "''')\n"
   ]
  },
  {
   "cell_type": "code",
   "execution_count": 27,
   "id": "f8c16aeb",
   "metadata": {},
   "outputs": [],
   "source": [
    "connection.commit()"
   ]
  },
  {
   "cell_type": "code",
   "execution_count": 29,
   "id": "bbeb56b1",
   "metadata": {},
   "outputs": [],
   "source": [
    "cur.execute('SELECT * FROM Movie')\n",
    "rows=cur.fetchall()"
   ]
  },
  {
   "cell_type": "code",
   "execution_count": 30,
   "id": "4f58310d",
   "metadata": {},
   "outputs": [
    {
     "name": "stdout",
     "output_type": "stream",
     "text": [
      "('Monty Python and the Holy Grail', 1975, 8.2)\n",
      "('And Now for Something Completely Different', 1971, 10.0)\n",
      "('Monty Python Live at the Hollywood Bowl', 1982, 7.9)\n",
      "(\"Monty Python's The Meaning of Life\", 1983, 7.5)\n",
      "(\"Monty Python's Life of Brian\", 1979, 8.0)\n",
      "('Monty Python Live at the Hollywood Bowl', 1982, 7.9)\n",
      "(\"Monty Python's The Meaning of Life\", 1983, 7.5)\n",
      "(\"Monty Python's Life of Brian\", 1979, 8.0)\n"
     ]
    }
   ],
   "source": [
    "for row in rows:\n",
    "    print(row)"
   ]
  },
  {
   "cell_type": "code",
   "execution_count": 32,
   "id": "02174b59",
   "metadata": {},
   "outputs": [
    {
     "data": {
      "text/plain": [
       "<sqlite3.Cursor at 0x212df50d4c0>"
      ]
     },
     "execution_count": 32,
     "metadata": {},
     "output_type": "execute_result"
    }
   ],
   "source": [
    "## Deletion \n",
    "cur.execute('''\n",
    " Delete from Movie\n",
    " WHERE year=1982\n",
    "''')"
   ]
  },
  {
   "cell_type": "code",
   "execution_count": 33,
   "id": "d58d3032",
   "metadata": {},
   "outputs": [],
   "source": [
    "connection.commit()"
   ]
  },
  {
   "cell_type": "code",
   "execution_count": 34,
   "id": "9dcc1925",
   "metadata": {},
   "outputs": [
    {
     "name": "stdout",
     "output_type": "stream",
     "text": [
      "(1975,)\n",
      "(1971,)\n",
      "(1983,)\n",
      "(1979,)\n",
      "(1983,)\n",
      "(1979,)\n"
     ]
    }
   ],
   "source": [
    "for row in cur.execute(\"SELECT year FROM Movie\"):\n",
    "    print(row)"
   ]
  },
  {
   "cell_type": "code",
   "execution_count": 35,
   "id": "6caa4e9d",
   "metadata": {},
   "outputs": [],
   "source": [
    "## close the connection\n",
    "connection.close()"
   ]
  },
  {
   "cell_type": "code",
   "execution_count": 37,
   "id": "594559c2",
   "metadata": {},
   "outputs": [
    {
     "ename": "ProgrammingError",
     "evalue": "Cannot operate on a closed database.",
     "output_type": "error",
     "traceback": [
      "\u001b[1;31m---------------------------------------------------------------------------\u001b[0m",
      "\u001b[1;31mProgrammingError\u001b[0m                          Traceback (most recent call last)",
      "Cell \u001b[1;32mIn[37], line 1\u001b[0m\n\u001b[1;32m----> 1\u001b[0m cur\u001b[38;5;241m.\u001b[39mexecute(\u001b[38;5;124m'''\u001b[39m\n\u001b[0;32m      2\u001b[0m \u001b[38;5;124m Delete from Movie\u001b[39m\n\u001b[0;32m      3\u001b[0m \u001b[38;5;124m WHERE year=1982\u001b[39m\n\u001b[0;32m      4\u001b[0m \u001b[38;5;124m'''\u001b[39m)\n",
      "\u001b[1;31mProgrammingError\u001b[0m: Cannot operate on a closed database."
     ]
    }
   ],
   "source": [
    "cur.execute('''\n",
    " Delete from Movie\n",
    " WHERE year=1982\n",
    "''')"
   ]
  },
  {
   "cell_type": "code",
   "execution_count": null,
   "id": "4d2cec57",
   "metadata": {},
   "outputs": [],
   "source": []
  }
 ],
 "metadata": {
  "kernelspec": {
   "display_name": "Python 3 (ipykernel)",
   "language": "python",
   "name": "python3"
  },
  "language_info": {
   "codemirror_mode": {
    "name": "ipython",
    "version": 3
   },
   "file_extension": ".py",
   "mimetype": "text/x-python",
   "name": "python",
   "nbconvert_exporter": "python",
   "pygments_lexer": "ipython3",
   "version": "3.11.5"
  }
 },
 "nbformat": 4,
 "nbformat_minor": 5
}
